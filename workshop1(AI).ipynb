{
  "nbformat": 4,
  "nbformat_minor": 0,
  "metadata": {
    "colab": {
      "provenance": []
    },
    "kernelspec": {
      "name": "python3",
      "display_name": "Python 3"
    },
    "language_info": {
      "name": "python"
    }
  },
  "cells": [
    {
      "cell_type": "code",
      "execution_count": null,
      "metadata": {
        "id": "wBRAKREMFT3c"
      },
      "outputs": [],
      "source": []
    },
    {
      "cell_type": "markdown",
      "source": [
        "  Question-1"
      ],
      "metadata": {
        "id": "QlnaSPw2FfLc"
      }
    },
    {
      "cell_type": "code",
      "source": [
        "import numpy as np\n",
        "# q-1\n",
        "empty_array=np.empty((2,2))\n",
        "print(\"q-1:\",empty_array)\n",
        "# q-2\n",
        "one_array=np.ones((4,2))\n",
        "print(\"q-2:\",one_array)\n",
        "# q-3\n",
        "filled_array=np.full((3,3),8)\n",
        "print(\"q-3:\",filled_array)\n",
        "# q-4\n",
        "zeros_like_array=np.zeros_like(filled_array)\n",
        "print(\"q-4:\",zeros_like_array)\n",
        "# q-5\n",
        "ones_like_array=np.ones_like(filled_array)\n",
        "print(\"q-5:\",ones_like_array)\n",
        "# q-6\n",
        "new_list=[1,2,3,4]\n",
        "new_list_array=np.array(new_list)\n",
        "print(\"q-6:\",new_list_array)\n"
      ],
      "metadata": {
        "colab": {
          "base_uri": "https://localhost:8080/"
        },
        "id": "HoK43DDUFkWG",
        "outputId": "8a91436e-a624-4760-d50e-1382ae4dec57"
      },
      "execution_count": null,
      "outputs": [
        {
          "output_type": "stream",
          "name": "stdout",
          "text": [
            "q-1: [[4.79833009e-310 0.00000000e+000]\n",
            " [6.65535601e-310 6.65535607e-310]]\n",
            "q-2: [[1. 1.]\n",
            " [1. 1.]\n",
            " [1. 1.]\n",
            " [1. 1.]]\n",
            "q-3: [[8 8 8]\n",
            " [8 8 8]\n",
            " [8 8 8]]\n",
            "q-4: [[0 0 0]\n",
            " [0 0 0]\n",
            " [0 0 0]]\n",
            "q-5: [[1 1 1]\n",
            " [1 1 1]\n",
            " [1 1 1]]\n",
            "q-6: [1 2 3 4]\n"
          ]
        }
      ]
    },
    {
      "cell_type": "markdown",
      "source": [
        "Question-2\n"
      ],
      "metadata": {
        "id": "7EsUQ_Q2F1gR"
      }
    },
    {
      "cell_type": "code",
      "source": [
        "import numpy as np\n",
        "# q-1\n",
        "array=np.arange(10,50)\n",
        "print(\"q-1:\",array)\n",
        "# q-2\n",
        "array2=np.arange(9).reshape(3,3)\n",
        "print (\"q-2:\",array2)\n",
        "# q-3\n",
        "array3=np.eye(3,3)\n",
        "print(\"q-3:\",array3)\n",
        "# q-4\n",
        "array4=np.random.random(30)\n",
        "mean_value=array4.mean()\n",
        "print(\"q-4:\",array4)\n",
        "# q-5\n",
        "array5=np.random.rand(10,10)\n",
        "print(\"q-5:\",array5)\n",
        "max_value=np.max(array5)\n",
        "min_value=np.min(array5)\n",
        "print(max_value)\n",
        "print(min_value)\n",
        "# q-6\n",
        "array6=np.zeros(10)\n",
        "array6[5]=1\n",
        "print(\"q-6:\",array6)\n",
        "# q-7\n",
        "array7=[1,2,0,0,4]\n",
        "reverse_array=np.flip(array7)\n",
        "print(\"q-7:\",reverse_array)\n",
        "# q-8\n",
        "array8=np.zeros((4,4))\n",
        "twod_array=np.pad(array8,pad_width=1,mode='constant',constant_values=1)\n",
        "print(\"q-8:\",twod_array)\n",
        "# q-9\n",
        "array9=np.zeros((8,8))\n",
        "array9[1::2,::2]=1\n",
        "array9[::2,1::2]=1\n",
        "print (\"q-9:\",array9)\n"
      ],
      "metadata": {
        "colab": {
          "base_uri": "https://localhost:8080/"
        },
        "id": "s2r5AvWNF6lp",
        "outputId": "bd25598a-e341-4236-ab01-f9a29a4871a1"
      },
      "execution_count": null,
      "outputs": [
        {
          "output_type": "stream",
          "name": "stdout",
          "text": [
            "q-1: [10 11 12 13 14 15 16 17 18 19 20 21 22 23 24 25 26 27 28 29 30 31 32 33\n",
            " 34 35 36 37 38 39 40 41 42 43 44 45 46 47 48 49]\n",
            "q-2: [[0 1 2]\n",
            " [3 4 5]\n",
            " [6 7 8]]\n",
            "q-3: [[1. 0. 0.]\n",
            " [0. 1. 0.]\n",
            " [0. 0. 1.]]\n",
            "q-4: [0.26076976 0.8138757  0.02822659 0.11295037 0.76217898 0.16495008\n",
            " 0.77312776 0.11783311 0.0905227  0.68687858 0.46864674 0.82662385\n",
            " 0.90128054 0.037077   0.36230459 0.75289481 0.23967864 0.1577901\n",
            " 0.84470494 0.36340344 0.11514661 0.8014334  0.14869551 0.17501325\n",
            " 0.47434184 0.59256167 0.96487034 0.09627762 0.73870839 0.18748422]\n",
            "q-5: [[0.43954598 0.94415731 0.31854539 0.77590203 0.33873199 0.10299405\n",
            "  0.6433218  0.92363769 0.1383871  0.05022113]\n",
            " [0.2601308  0.23904679 0.51281238 0.52150299 0.74648118 0.17175109\n",
            "  0.01498379 0.06405245 0.31084328 0.15722909]\n",
            " [0.94907155 0.62807277 0.86029004 0.40221805 0.98813012 0.116473\n",
            "  0.70751155 0.44197384 0.26324868 0.15461078]\n",
            " [0.18369284 0.14418641 0.02576845 0.66816623 0.94475572 0.8623128\n",
            "  0.42626982 0.03409026 0.09647941 0.72286377]\n",
            " [0.03133013 0.97494962 0.1417727  0.35399127 0.39201712 0.47294819\n",
            "  0.34536208 0.24373466 0.44933331 0.75570845]\n",
            " [0.70547805 0.66145405 0.12373161 0.6494517  0.852954   0.94406314\n",
            "  0.72805979 0.5448006  0.87222976 0.68918038]\n",
            " [0.96899322 0.28575331 0.8865346  0.44256604 0.0991848  0.23749381\n",
            "  0.00841843 0.69665907 0.84900673 0.12254861]\n",
            " [0.73956772 0.05701948 0.99373536 0.14855943 0.6541424  0.95022173\n",
            "  0.44376018 0.44410054 0.09638827 0.64870726]\n",
            " [0.86834421 0.79759928 0.22161836 0.83692379 0.19640375 0.10569071\n",
            "  0.33854985 0.76214813 0.27162904 0.54471076]\n",
            " [0.11226208 0.13768368 0.09325434 0.08163266 0.90553393 0.2244015\n",
            "  0.69888511 0.56641642 0.3213351  0.15118775]]\n",
            "0.9937353608532811\n",
            "0.00841843210711346\n",
            "q-6: [0. 0. 0. 0. 0. 1. 0. 0. 0. 0.]\n",
            "q-7: [4 0 0 2 1]\n",
            "q-8: [[1. 1. 1. 1. 1. 1.]\n",
            " [1. 0. 0. 0. 0. 1.]\n",
            " [1. 0. 0. 0. 0. 1.]\n",
            " [1. 0. 0. 0. 0. 1.]\n",
            " [1. 0. 0. 0. 0. 1.]\n",
            " [1. 1. 1. 1. 1. 1.]]\n",
            "q-9: [[0. 1. 0. 1. 0. 1. 0. 1.]\n",
            " [1. 0. 1. 0. 1. 0. 1. 0.]\n",
            " [0. 1. 0. 1. 0. 1. 0. 1.]\n",
            " [1. 0. 1. 0. 1. 0. 1. 0.]\n",
            " [0. 1. 0. 1. 0. 1. 0. 1.]\n",
            " [1. 0. 1. 0. 1. 0. 1. 0.]\n",
            " [0. 1. 0. 1. 0. 1. 0. 1.]\n",
            " [1. 0. 1. 0. 1. 0. 1. 0.]]\n"
          ]
        }
      ]
    },
    {
      "cell_type": "markdown",
      "source": [
        "Question-3\n"
      ],
      "metadata": {
        "id": "2tz2A_BVGOaQ"
      }
    },
    {
      "cell_type": "code",
      "source": [
        "x = np.array([[1,2],[3,5]])\n",
        "y = np.array([[5,6],[7,8]])\n",
        "v = np.array([9,10])\n",
        "w = np.array([11,12])\n",
        "# q-1\n",
        "add_array=np.add(x,y)\n",
        "print(\"q-1:\",add_array)\n",
        "# q-2\n",
        "sub_array=np.subtract(x,y)\n",
        "print(\"q-2:\",sub_array)\n",
        "# q-3\n",
        "multiply_array=np.multiply(x,y)\n",
        "print(\"q-3:\",multiply_array)\n",
        "# q-4\n",
        "square_array=np.square(x,y)\n",
        "print(\"q-4:\", square_array)\n",
        "# q-5\n",
        "dot_array1=np.dot(v,w)\n",
        "dot_array2=np.dot(x,v)\n",
        "dot_array3=np.dot(x,y)\n",
        "print(\"q-5:\", dot_array1,dot_array2,dot_array3)\n",
        "# q-6\n",
        "concatenate_array=np.concatenate((x,y),axis=0)\n",
        "print(\"q-6:\",concatenate_array)\n",
        "# q-7\n",
        "concatenate2=np.concatenate((x,y),axis=1)\n",
        "print(\"q-7:\",concatenate2)\n",
        "# cause dimension does not match\n"
      ],
      "metadata": {
        "colab": {
          "base_uri": "https://localhost:8080/"
        },
        "id": "FcyYXtGLGXjK",
        "outputId": "471e1579-5139-4a33-8465-4255265c0c7a"
      },
      "execution_count": null,
      "outputs": [
        {
          "output_type": "stream",
          "name": "stdout",
          "text": [
            "q-1: [[ 6  8]\n",
            " [10 13]]\n",
            "q-2: [[-4 -4]\n",
            " [-4 -3]]\n",
            "q-3: [[ 5 12]\n",
            " [21 40]]\n",
            "q-4: [[ 1  4]\n",
            " [ 9 25]]\n",
            "q-5: 219 [29 77] [[ 19  54]\n",
            " [ 48 137]]\n",
            "q-6: [[ 1  2]\n",
            " [ 3  5]\n",
            " [ 1  4]\n",
            " [ 9 25]]\n",
            "q-7: [[ 1  2  1  4]\n",
            " [ 3  5  9 25]]\n"
          ]
        }
      ]
    },
    {
      "cell_type": "code",
      "source": [],
      "metadata": {
        "id": "hyJrdvVXsr6q"
      },
      "execution_count": null,
      "outputs": []
    },
    {
      "cell_type": "markdown",
      "source": [
        "Question 4\n"
      ],
      "metadata": {
        "id": "j_QNR0XespUy"
      }
    },
    {
      "cell_type": "code",
      "source": [
        "import numpy as np\n",
        "\n",
        "# Part 1: Prove A * A^-1 = I\n",
        "A = np.array([[3, 4], [7, 8]])\n",
        "B = np.array([[5, 3], [2, 1]])\n",
        "\n",
        "# Calculate the inverse of A\n",
        "A_inv = np.linalg.inv(A)\n",
        "result = np.dot(A_inv, A)\n",
        "result = np.round(result, decimals=10)\n",
        "I = np.eye(2, 2)\n",
        "if np.allclose(result, I):\n",
        "    print(\"A * A^-1 = I: Equal\")\n",
        "else:\n",
        "    print(\"A * A^-1 = I: Not equal\")\n",
        "\n",
        "# Part 2: Prove AB ≠ BA\n",
        "res1 = np.matmul(A, B)\n",
        "res2 = np.matmul(B, A)\n",
        "if np.allclose(res1, res2):\n",
        "    print(\"AB = BA: Equal\")\n",
        "else:\n",
        "    print(\"AB ≠ BA: Not equal\")\n",
        "\n",
        "# Part 3: Prove (AB)^T = B^T * A^T\n",
        "transpAB = np.transpose(res1)\n",
        "transpA = np.transpose(A)\n",
        "transpB = np.transpose(B)\n",
        "res2 = np.matmul(transpB, transpA)\n",
        "\n",
        "if np.allclose(transpAB, res2):\n",
        "    print(\"AB^T = B^T A^T: Equal\")\n",
        "else:\n",
        "    print(\"AB^T = B^T A^T: Not equal\")\n",
        "\n",
        "# Part 4: Solve the system of linear equations using the inverse method\n",
        "\n",
        "A_matrix = np.array([[2, -3, 1], [1, -1, 2], [3, 1, -1]])\n",
        "B_matrix = np.array([-1, -3, 9])\n",
        "A_inv = np.linalg.inv(A_matrix)\n",
        "X = np.dot(A_inv, B_matrix)\n",
        "print(\"The solution is: \", X)\n"
      ],
      "metadata": {
        "colab": {
          "base_uri": "https://localhost:8080/"
        },
        "id": "7f6csOkostJf",
        "outputId": "e68d89f0-92c1-477e-86d4-f1332ce1088c"
      },
      "execution_count": 5,
      "outputs": [
        {
          "output_type": "stream",
          "name": "stdout",
          "text": [
            "A * A^-1 = I: Equal\n",
            "AB ≠ BA: Not equal\n",
            "AB^T = B^T A^T: Equal\n",
            "The solution is:  [ 2.  1. -2.]\n"
          ]
        }
      ]
    }
  ]
}